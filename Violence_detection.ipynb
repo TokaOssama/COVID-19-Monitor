{
  "nbformat": 4,
  "nbformat_minor": 0,
  "metadata": {
    "colab": {
      "name": "Violence-detection.ipynb",
      "provenance": [],
      "collapsed_sections": [],
      "machine_shape": "hm",
      "include_colab_link": true
    },
    "kernelspec": {
      "name": "python3",
      "display_name": "Python 3"
    },
    "accelerator": "GPU"
  },
  "cells": [
    {
      "cell_type": "markdown",
      "metadata": {
        "id": "view-in-github",
        "colab_type": "text"
      },
      "source": [
        "<a href=\"https://colab.research.google.com/github/TokaOssama/COVID-19-Monitor/blob/master/Violence_detection.ipynb\" target=\"_parent\"><img src=\"https://colab.research.google.com/assets/colab-badge.svg\" alt=\"Open In Colab\"/></a>"
      ]
    },
    {
      "cell_type": "code",
      "metadata": {
        "id": "SFVBpNl8sG_O",
        "colab_type": "code",
        "colab": {
          "base_uri": "https://localhost:8080/",
          "height": 151
        },
        "outputId": "8e25e3d3-a7fa-45c5-dccf-58706ab26581"
      },
      "source": [
        "from google.colab import drive\n",
        "drive.mount('/content/drive')\n",
        "import os \n",
        "training_dir = './drive/My Drive/Videos/Training'\n",
        "testing_dir = './drive/My Drive/Videos/Testing'\n",
        "validation_dir = './drive/My Drive/Videos/Validation'\n",
        "\n",
        "train_normal_dir = os.path.join(training_dir, 'Normal')\n",
        "train_violence_dir = os.path.join(training_dir, 'Violence')\n",
        "\n",
        "test_normal_dir = os.path.join(testing_dir, 'Normal')\n",
        "test_violence_dir = os.path.join(testing_dir, 'Violence')\n",
        "\n",
        "val_normal_dir = os.path.join(validation_dir, 'Normal')\n",
        "val_violence_dir = os.path.join(validation_dir, 'Violence')\n",
        "\n",
        "print(os.listdir(train_violence_dir))\n",
        "print(os.listdir(train_normal_dir))\n"
      ],
      "execution_count": null,
      "outputs": [
        {
          "output_type": "stream",
          "text": [
            "Go to this URL in a browser: https://accounts.google.com/o/oauth2/auth?client_id=947318989803-6bn6qk8qdgf4n4g3pfee6491hc0brc4i.apps.googleusercontent.com&redirect_uri=urn%3aietf%3awg%3aoauth%3a2.0%3aoob&response_type=code&scope=email%20https%3a%2f%2fwww.googleapis.com%2fauth%2fdocs.test%20https%3a%2f%2fwww.googleapis.com%2fauth%2fdrive%20https%3a%2f%2fwww.googleapis.com%2fauth%2fdrive.photos.readonly%20https%3a%2f%2fwww.googleapis.com%2fauth%2fpeopleapi.readonly\n",
            "\n",
            "Enter your authorization code:\n",
            "··········\n",
            "Mounted at /content/drive\n",
            "['Violence_7.mp4', 'Violence_8.mp4', 'Violence_5.mp4', 'Violence_9.mp4', 'training (4).mp4', 'training (12).mp4', 'testing (4).mp4', 'training (7).mp4', 'training (8).mp4', 'training (10).mp4', 'training.mp4', 'training (9).mp4', 'training (5).mp4', 'Violence_14.mp4', 'Violence_17.mp4', 'Violence_18.mp4']\n",
            "['Normal_1.mp4', 'Normal_7.mp4', 'Normal_9 (1).mp4', 'Normal_9.mp4', 'Normal_11.mp4', 'Normal_13.mp4', 'Normal_16.mp4', 'Normal_15.mp4', 'Normal_17.mp4', 'Normal_29.mp4', 'Normal_25.mp4', 'Normal_28.mp4', 'Normal_27.mp4', 'Normal_24.mp4', 'Normal41.mp4', 'Normal35.mp4', 'Normal30.mp4', 'Normal33.mp4', 'Normal34.mp4', 'Normal31.mp4', 'Normal36.mp4', 'Normal38.mp4', 'Normal37.mp4', 'Normal32.mp4', 'Normal40.mp4', 'Normal39.mp4', 'Normal50.mp4', 'Normal47.mp4', 'Normal65.mp4', 'Normal57.mp4', 'Normal60.mp4', 'Normal55.mp4', 'Normal61.mp4', 'Normal56.mp4', 'Normal58.mp4', 'Normal63.mp4', 'Normal59.mp4', 'Normal64.mp4', 'Normal62.mp4', 'Normal81.mp4', 'Normal80.mp4', 'Normal79.mp4', 'Normal78.mp4']\n"
          ],
          "name": "stdout"
        }
      ]
    },
    {
      "cell_type": "code",
      "metadata": {
        "id": "9D4BqauGtzIW",
        "colab_type": "code",
        "colab": {}
      },
      "source": [
        "import cv2 \n",
        "import numpy as np\n",
        "import tensorflow as tf\n",
        "\n",
        "\n",
        "\n",
        "def extract_frames(loc):\n",
        "    gray = 0\n",
        "    resized = 0\n",
        "    data = []\n",
        "    #frames = []\n",
        "    for video_name in os.listdir(loc):\n",
        "        video = cv2.VideoCapture(os.path.join(loc,video_name))\n",
        "        new_packet = []\n",
        "        i = 0\n",
        "        dim = (50, 50)\n",
        "        while video.isOpened():\n",
        "            ret, frame = video.read()\n",
        "            if not ret:\n",
        "                break\n",
        "            if i%2 ==0: # Works for 30 fps videos to capture only 15 fps\n",
        "                i += 1\n",
        "                continue\n",
        "            resized = cv2.resize(frame, dim, interpolation = cv2.INTER_AREA)\n",
        "            #frames.append(resized) #Sample frames for plotting \n",
        "            gray = cv2.cvtColor(resized, cv2.COLOR_BGR2GRAY)\n",
        "            new_packet.append(gray)\n",
        "            if len(new_packet) == 15:\n",
        "                stacked = np.array(new_packet)/255.\n",
        "                data.append(stacked)\n",
        "                \n",
        "                new_packet.pop(0)\n",
        "            i += 1\n",
        "        video.release()\n",
        "\n",
        "    cv2.destroyAllWindows()\n",
        "    #\n",
        "    data = np.stack(data, axis = 0)\n",
        "    #move frame dimension to be the last for the model to accept it\n",
        "    data = np.moveaxis(data, 1, -1)\n",
        "    return data\n",
        "\n",
        "    \n",
        "train_violence_data = extract_frames(train_violence_dir)\n",
        "train_normal_data  = extract_frames(train_normal_dir)\n",
        "\n",
        "val_violence_data = extract_frames(val_violence_dir)\n",
        "val_normal_data = extract_frames(val_normal_dir)\n",
        "\n",
        "test_violence_data = extract_frames(test_violence_dir)\n",
        "test_normal_data = extract_frames(test_normal_dir)\n"
      ],
      "execution_count": null,
      "outputs": []
    },
    {
      "cell_type": "code",
      "metadata": {
        "id": "RpvL5GsW7iJf",
        "colab_type": "code",
        "colab": {
          "base_uri": "https://localhost:8080/",
          "height": 115
        },
        "outputId": "967a782c-6f36-492d-d4d5-661ecc2b4587"
      },
      "source": [
        "print(\"Training Violence tensors = \" , len(train_violence_data))\n",
        "print(\"Training Normal tensors = \" , len(train_normal_data))\n",
        "print(\"Validation Violence tensors = \" , len(val_violence_data))\n",
        "print(\"Validation Normal tensors = \" , len(val_normal_data))\n",
        "print(\"Testing Violence tensors = \" , len(test_violence_data))\n",
        "print(\"Testing Normal tensors = \" , len(test_normal_data))"
      ],
      "execution_count": null,
      "outputs": [
        {
          "output_type": "stream",
          "text": [
            "Training Violence tensors =  5635\n",
            "Training Normal tensors =  5533\n",
            "Validation Violence tensors =  1098\n",
            "Validation Normal tensors =  1536\n",
            "Testing Violence tensors =  1017\n",
            "Testing Normal tensors =  1371\n"
          ],
          "name": "stdout"
        }
      ]
    },
    {
      "cell_type": "code",
      "metadata": {
        "id": "VDx-WU8dYB2o",
        "colab_type": "code",
        "colab": {
          "base_uri": "https://localhost:8080/",
          "height": 50
        },
        "outputId": "1f613c2d-0ddc-46bb-b13e-a72cdb77dce5"
      },
      "source": [
        "print(train_violence_data.shape)\n",
        "print(train_normal_data.shape)"
      ],
      "execution_count": null,
      "outputs": [
        {
          "output_type": "stream",
          "text": [
            "(5635, 50, 50, 15)\n",
            "(5533, 50, 50, 15)\n"
          ],
          "name": "stdout"
        }
      ]
    },
    {
      "cell_type": "code",
      "metadata": {
        "id": "UeSSyWKpaDsU",
        "colab_type": "code",
        "colab": {
          "base_uri": "https://localhost:8080/",
          "height": 337
        },
        "outputId": "23a7c9a8-5547-4cb2-851a-5fa254e19b43"
      },
      "source": [
        "import matplotlib.pyplot as plt\n",
        "plt.figure(figsize=(5,5))\n",
        "sample = train_violence_data[4060,:,:,0]\n",
        "plt.imshow(sample)"
      ],
      "execution_count": null,
      "outputs": [
        {
          "output_type": "execute_result",
          "data": {
            "text/plain": [
              "<matplotlib.image.AxesImage at 0x7f16e4e99d30>"
            ]
          },
          "metadata": {
            "tags": []
          },
          "execution_count": 5
        },
        {
          "output_type": "display_data",
          "data": {
            "image/png": "[encoded data removed]",
            "text/plain": [
              "<Figure size 360x360 with 1 Axes>"
            ]
          },
          "metadata": {
            "tags": [],
            "needs_background": "light"
          }
        }
      ]
    },
    {
      "cell_type": "code",
      "metadata": {
        "id": "dvxuob8QH-F5",
        "colab_type": "code",
        "colab": {
          "base_uri": "https://localhost:8080/",
          "height": 33
        },
        "outputId": "89da0f5a-21c2-46a7-f459-5be18a4d3073"
      },
      "source": [
        "# y_train = np.concatenate([np.zeros(len(train_normal_data)), np.ones(len(train_violence_data))])\n",
        "# x_train = np.concatenate([train_normal_data, train_violence_data], axis = 0)\n",
        "\n",
        "# y_val = np.concatenate([np.zeros(len(val_normal_data)), np.ones(len(val_violence_data))])\n",
        "# x_val = np.concatenate([val_normal_data, val_violence_data], axis = 0)\n",
        "\n",
        "# y_test = np.concatenate([np.zeros(len(test_normal_data)), np.ones(len(test_violence_data))])\n",
        "# x_test = np.concatenate([test_normal_data, test_violence_data], axis = 0)\n",
        "y_train = np.concatenate([np.zeros(5500), np.ones(5500)])\n",
        "x_train = np.concatenate([train_normal_data[:5500,:,:,:], train_violence_data[:5500,:,:,:]], axis = 0)\n",
        "\n",
        "y_val = np.concatenate([np.zeros(1000), np.ones(1000)])\n",
        "x_val = np.concatenate([val_normal_data[:1000,:,:,:], val_violence_data[:1000,:,:,:]], axis = 0)\n",
        "\n",
        "y_test = np.concatenate([np.zeros(890), np.ones(890)])\n",
        "x_test = np.concatenate([test_normal_data[:890,:,:,:], test_violence_data[:890,:,:,:]], axis = 0)\n",
        "\n",
        "print((x_train.shape, y_train.shape))\n",
        "\n"
      ],
      "execution_count": null,
      "outputs": [
        {
          "output_type": "stream",
          "text": [
            "((11000, 50, 50, 15), (11000,))\n"
          ],
          "name": "stdout"
        }
      ]
    },
    {
      "cell_type": "code",
      "metadata": {
        "id": "1SqZENXamAtJ",
        "colab_type": "code",
        "colab": {
          "base_uri": "https://localhost:8080/",
          "height": 50
        },
        "outputId": "b46fe3b2-d2d5-4c82-aa37-fbd41aadf6a8"
      },
      "source": [
        "#shuffling data\n",
        "per_train = np.random.permutation(len(x_train))\n",
        "per_val = np.random.permutation(len(x_val))\n",
        "per_test = np.random.permutation(len(x_test))\n",
        "\n",
        "\n",
        "print(per_test)\n",
        "print(len(x_train))"
      ],
      "execution_count": null,
      "outputs": [
        {
          "output_type": "stream",
          "text": [
            "[1161  710   11 ...   82 1486 1693]\n",
            "11000\n"
          ],
          "name": "stdout"
        }
      ]
    },
    {
      "cell_type": "code",
      "metadata": {
        "id": "_wFltqEMK6Rl",
        "colab_type": "code",
        "colab": {
          "base_uri": "https://localhost:8080/",
          "height": 66
        },
        "outputId": "8703563a-872e-4495-f2cd-38315f14098b"
      },
      "source": [
        "y_train = y_train[per_train]\n",
        "x_train = x_train[per_train,:,:,:]\n",
        "y_train = y_train.astype(int)\n",
        "\n",
        "\n",
        "y_val = y_val[per_val]\n",
        "x_val = x_val[per_val,:,:,:]\n",
        "y_val = y_val.astype(int)\n",
        "\n",
        "y_test = y_test[per_test]\n",
        "x_test = x_test[per_test,:,:,:]\n",
        "y_test = y_test.astype(int)\n",
        "\n",
        "print(y_train[50:70])\n",
        "print(y_val[0:20])\n",
        "print(y_test[0:20])"
      ],
      "execution_count": null,
      "outputs": [
        {
          "output_type": "stream",
          "text": [
            "[0 1 0 1 0 0 1 1 0 1 0 0 0 1 1 0 1 1 0 1]\n",
            "[1 1 1 0 0 1 0 0 0 0 1 1 0 0 1 1 1 1 1 1]\n",
            "[1 0 0 0 0 1 1 0 0 1 1 1 1 1 0 1 0 1 1 0]\n"
          ],
          "name": "stdout"
        }
      ]
    },
    {
      "cell_type": "code",
      "metadata": {
        "id": "SyyzOBsdo4Dp",
        "colab_type": "code",
        "colab": {
          "base_uri": "https://localhost:8080/",
          "height": 66
        },
        "outputId": "949d28ae-310c-4bef-b1f2-82383713a4e6"
      },
      "source": [
        " print((x_train.shape, y_train.shape))\n",
        "print((x_val.shape, y_val.shape))\n",
        "print((x_test.shape, y_test.shape))\n"
      ],
      "execution_count": null,
      "outputs": [
        {
          "output_type": "stream",
          "text": [
            "((11000, 50, 50, 15), (11000,))\n",
            "((2000, 50, 50, 15), (2000,))\n",
            "((1780, 50, 50, 15), (1780,))\n"
          ],
          "name": "stdout"
        }
      ]
    },
    {
      "cell_type": "code",
      "metadata": {
        "id": "uHEA2O34pe5T",
        "colab_type": "code",
        "colab": {}
      },
      "source": [
        " dataset = tf.data.Dataset.from_tensor_slices((x_train, y_train))\n",
        "val = tf.data.Dataset.from_tensor_slices((x_val, y_val))\n",
        "\n",
        "# val = tf.data.Dataset.from_tensor_slices((x_train, y_train))\n",
        "\n",
        "dataset = dataset.repeat(1)\n",
        "dataset = dataset.batch(32)\n",
        "\n",
        "val = val.repeat(1)\n",
        "val = val.batch(32)\n"
      ],
      "execution_count": null,
      "outputs": []
    },
    {
      "cell_type": "code",
      "metadata": {
        "id": "Aq4NPRqYpirL",
        "colab_type": "code",
        "colab": {
          "base_uri": "https://localhost:8080/",
          "height": 33
        },
        "outputId": "65065226-e53c-46de-8a96-757444bd25ca"
      },
      "source": [
        " for x in val.take(1):\n",
        "    print(x[1])\n",
        "    # print(tf.shape(x[1]))"
      ],
      "execution_count": null,
      "outputs": [
        {
          "output_type": "stream",
          "text": [
            "tf.Tensor([1 1 1 0 0 1 0 0 0 0 1 1 0 0 1 1 1 1 1 1 1 1 1 0 1 0 1 1 0 0 0 0], shape=(32,), dtype=int64)\n"
          ],
          "name": "stdout"
        }
      ]
    },
    {
      "cell_type": "code",
      "metadata": {
        "id": "rmH2oiSIp0nQ",
        "colab_type": "code",
        "colab": {}
      },
      "source": [
        "  model = tf.keras.models.Sequential([\n",
        "    # Note the input shape is the desired size of the image\n",
        "    # 150x150 with 3 bytes color.\n",
        "    tf.keras.layers.Conv2D(256, (3,3), activation = 'relu', \n",
        "                          input_shape = (50, 50, 15), padding = 'same'),\n",
        "    tf.keras.layers.Dropout(0.4),\n",
        "    tf.keras.layers.MaxPooling2D(2,2),\n",
        "    tf.keras.layers.BatchNormalization(),\n",
        "    tf.keras.layers.Conv2D(256, (3,3), activation = 'relu', padding = 'same'),\n",
        "    tf.keras.layers.MaxPooling2D(2,2),\n",
        "    tf.keras.layers.BatchNormalization(),\n",
        "    tf.keras.layers.Conv2D(256, (3,3), activation = 'relu', padding = 'same'),\n",
        "    tf.keras.layers.MaxPooling2D(2,2),\n",
        "    tf.keras.layers.BatchNormalization(),\n",
        "    tf.keras.layers.Conv2D(256, (3,3), activation = 'relu', padding = 'same'),\n",
        "    tf.keras.layers.MaxPooling2D(2,2),\n",
        "    tf.keras.layers.BatchNormalization(),\n",
        "    # Flatten the results to feed into the densely connected layer.\n",
        "    tf.keras.layers.Flatten(),\n",
        "    tf.keras.layers.Dropout(0.4),\n",
        "    # 512 neuron hidden layer.\n",
        "    tf.keras.layers.Dense(128, activation = 'relu'),\n",
        "    # Only 1 output neuron for binary classification task.\n",
        "    tf.keras.layers.Dense(1, activation = 'sigmoid')\n",
        "])"
      ],
      "execution_count": null,
      "outputs": []
    },
    {
      "cell_type": "code",
      "metadata": {
        "id": "mWc_80kuqQTg",
        "colab_type": "code",
        "colab": {
          "base_uri": "https://localhost:8080/",
          "height": 700
        },
        "outputId": "b6a36b3f-618b-4334-9435-6454d6739410"
      },
      "source": [
        " model.summary()"
      ],
      "execution_count": null,
      "outputs": [
        {
          "output_type": "stream",
          "text": [
            "Model: \"sequential_1\"\n",
            "_________________________________________________________________\n",
            "Layer (type)                 Output Shape              Param #   \n",
            "=================================================================\n",
            "conv2d_4 (Conv2D)            (None, 50, 50, 256)       34816     \n",
            "_________________________________________________________________\n",
            "dropout_2 (Dropout)          (None, 50, 50, 256)       0         \n",
            "_________________________________________________________________\n",
            "max_pooling2d_4 (MaxPooling2 (None, 25, 25, 256)       0         \n",
            "_________________________________________________________________\n",
            "batch_normalization_4 (Batch (None, 25, 25, 256)       1024      \n",
            "_________________________________________________________________\n",
            "conv2d_5 (Conv2D)            (None, 25, 25, 256)       590080    \n",
            "_________________________________________________________________\n",
            "max_pooling2d_5 (MaxPooling2 (None, 12, 12, 256)       0         \n",
            "_________________________________________________________________\n",
            "batch_normalization_5 (Batch (None, 12, 12, 256)       1024      \n",
            "_________________________________________________________________\n",
            "conv2d_6 (Conv2D)            (None, 12, 12, 256)       590080    \n",
            "_________________________________________________________________\n",
            "max_pooling2d_6 (MaxPooling2 (None, 6, 6, 256)         0         \n",
            "_________________________________________________________________\n",
            "batch_normalization_6 (Batch (None, 6, 6, 256)         1024      \n",
            "_________________________________________________________________\n",
            "conv2d_7 (Conv2D)            (None, 6, 6, 256)         590080    \n",
            "_________________________________________________________________\n",
            "max_pooling2d_7 (MaxPooling2 (None, 3, 3, 256)         0         \n",
            "_________________________________________________________________\n",
            "batch_normalization_7 (Batch (None, 3, 3, 256)         1024      \n",
            "_________________________________________________________________\n",
            "flatten_1 (Flatten)          (None, 2304)              0         \n",
            "_________________________________________________________________\n",
            "dropout_3 (Dropout)          (None, 2304)              0         \n",
            "_________________________________________________________________\n",
            "dense_2 (Dense)              (None, 128)               295040    \n",
            "_________________________________________________________________\n",
            "dense_3 (Dense)              (None, 1)                 129       \n",
            "=================================================================\n",
            "Total params: 2,104,321\n",
            "Trainable params: 2,102,273\n",
            "Non-trainable params: 2,048\n",
            "_________________________________________________________________\n"
          ],
          "name": "stdout"
        }
      ]
    },
    {
      "cell_type": "code",
      "metadata": {
        "id": "LJ-uA17kqX0Q",
        "colab_type": "code",
        "colab": {}
      },
      "source": [
        "from tensorflow.keras.optimizers import RMSprop\n",
        "\n",
        "model.compile(loss = 'binary_crossentropy',\n",
        "             optimizer = RMSprop(lr = 0.001),\n",
        "             metrics = ['acc', tf.keras.metrics.Recall(), tf.keras.metrics.Precision()])"
      ],
      "execution_count": null,
      "outputs": []
    },
    {
      "cell_type": "code",
      "metadata": {
        "id": "-7qb15z8VsEC",
        "colab_type": "code",
        "colab": {}
      },
      "source": [
        "# Load the TensorBoard notebook extension\n",
        "%load_ext tensorboard"
      ],
      "execution_count": null,
      "outputs": []
    },
    {
      "cell_type": "code",
      "metadata": {
        "id": "NjZMdxQ5VySf",
        "colab_type": "code",
        "colab": {}
      },
      "source": [
        "import datetime\n",
        "# Clear any logs from previous runs\n",
        "!rm -rf ./logs/ "
      ],
      "execution_count": null,
      "outputs": []
    },
    {
      "cell_type": "code",
      "metadata": {
        "id": "CAoPsNT_BrEa",
        "colab_type": "code",
        "colab": {}
      },
      "source": [
        "    #Adding early_stopping callback\n",
        "\n",
        "#early_stopping_cb = tf.keras.callbacks.EarlyStopping(patience = 6, restore_best_weights= True)"
      ],
      "execution_count": null,
      "outputs": []
    },
    {
      "cell_type": "code",
      "metadata": {
        "id": "pnVaEFugqafB",
        "colab_type": "code",
        "colab": {
          "base_uri": "https://localhost:8080/",
          "height": 330
        },
        "outputId": "7145921b-f922-4880-9b1a-5713e6341ba7"
      },
      "source": [
        " log_dir = \"logs/fit/\" + datetime.datetime.now().strftime(\"%Y%m%d-%H%M%S\")\n",
        "tensorboard_callback = tf.keras.callbacks.TensorBoard(log_dir=log_dir, histogram_freq=1)\n",
        "\n",
        "model.fit(dataset,\n",
        "         epochs=10,\n",
        "         validation_data = val,          \n",
        "         callbacks=[tensorboard_callback],\n",
        "         )"
      ],
      "execution_count": null,
      "outputs": [
        {
          "output_type": "stream",
          "text": [
            "Epoch 1/10\n",
            "344/344 [==============================] - 11s 32ms/step - loss: 0.0980 - acc: 0.9740 - recall: 0.9751 - precision: 0.9730 - val_loss: 0.3723 - val_acc: 0.9650 - val_recall: 0.9600 - val_precision: 0.9697\n",
            "Epoch 2/10\n",
            "344/344 [==============================] - 10s 29ms/step - loss: 0.0122 - acc: 0.9968 - recall: 0.9965 - precision: 0.9971 - val_loss: 0.1265 - val_acc: 0.9595 - val_recall: 0.9830 - val_precision: 0.9389\n",
            "Epoch 3/10\n",
            "344/344 [==============================] - 10s 29ms/step - loss: 0.0081 - acc: 0.9978 - recall: 0.9978 - precision: 0.9978 - val_loss: 0.0810 - val_acc: 0.9795 - val_recall: 0.9740 - val_precision: 0.9848\n",
            "Epoch 4/10\n",
            "344/344 [==============================] - 10s 29ms/step - loss: 0.0030 - acc: 0.9990 - recall: 0.9991 - precision: 0.9989 - val_loss: 0.3934 - val_acc: 0.9445 - val_recall: 0.9610 - val_precision: 0.9303\n",
            "Epoch 5/10\n",
            "344/344 [==============================] - 10s 30ms/step - loss: 0.0025 - acc: 0.9994 - recall: 0.9989 - precision: 0.9998 - val_loss: 0.1170 - val_acc: 0.9685 - val_recall: 0.9720 - val_precision: 0.9652\n",
            "Epoch 6/10\n",
            "344/344 [==============================] - 10s 29ms/step - loss: 0.0016 - acc: 0.9997 - recall: 0.9996 - precision: 0.9998 - val_loss: 0.4029 - val_acc: 0.9800 - val_recall: 0.9600 - val_precision: 1.0000\n",
            "Epoch 7/10\n",
            "344/344 [==============================] - 10s 29ms/step - loss: 6.5158e-06 - acc: 1.0000 - recall: 1.0000 - precision: 1.0000 - val_loss: 0.6512 - val_acc: 0.9750 - val_recall: 0.9500 - val_precision: 1.0000\n",
            "Epoch 8/10\n",
            "344/344 [==============================] - 10s 29ms/step - loss: 5.8440e-08 - acc: 1.0000 - recall: 1.0000 - precision: 1.0000 - val_loss: 0.4845 - val_acc: 0.9800 - val_recall: 0.9600 - val_precision: 1.0000\n",
            "Epoch 9/10\n",
            "136/344 [==========>...................] - ETA: 5s - loss: 0.0011 - acc: 0.9995 - recall: 0.9995 - precision: 0.9995"
          ],
          "name": "stdout"
        }
      ]
    },
    {
      "cell_type": "code",
      "metadata": {
        "id": "C2aCuMZVWFBh",
        "colab_type": "code",
        "colab": {}
      },
      "source": [
        "%tensorboard --logdir logs/fit"
      ],
      "execution_count": null,
      "outputs": []
    },
    {
      "cell_type": "code",
      "metadata": {
        "id": "3Uh8L_wqPxcy",
        "colab_type": "code",
        "colab": {}
      },
      "source": [
        " x = model.evaluate(x_test, y_test)"
      ],
      "execution_count": null,
      "outputs": []
    },
    {
      "cell_type": "code",
      "metadata": {
        "id": "eqop3kjUBaJs",
        "colab_type": "code",
        "colab": {}
      },
      "source": [
        "y_pred = model.predict(x_test)"
      ],
      "execution_count": null,
      "outputs": []
    },
    {
      "cell_type": "code",
      "metadata": {
        "id": "aeCvWn2KBgCz",
        "colab_type": "code",
        "colab": {}
      },
      "source": [
        "y_pred = [1 * (x[0]>=0.5) for x in y_pred]\n",
        "\n",
        "con_mat = tf.math.confusion_matrix(labels=y_test, predictions=y_pred).numpy()"
      ],
      "execution_count": null,
      "outputs": []
    },
    {
      "cell_type": "code",
      "metadata": {
        "id": "tH4wJA4ICTnF",
        "colab_type": "code",
        "colab": {}
      },
      "source": [
        "import pandas as pd\n",
        "\n",
        "con_mat_norm = np.around(con_mat.astype('float') / con_mat.sum(axis=1)[:, np.newaxis], decimals=3)\n",
        " \n",
        "con_mat_df = pd.DataFrame(con_mat_norm,\n",
        "                     index = [0,1], \n",
        "                     columns = [0,1])"
      ],
      "execution_count": null,
      "outputs": []
    },
    {
      "cell_type": "code",
      "metadata": {
        "id": "RUqGRue5ChOp",
        "colab_type": "code",
        "colab": {
          "base_uri": "https://localhost:8080/",
          "height": 598
        },
        "outputId": "a35327ba-3dc3-4438-9cca-2aae98c378ec"
      },
      "source": [
        "import seaborn as sns\n",
        "\t\n",
        "figure = plt.figure(figsize=(8, 8))\n",
        "sns.heatmap(con_mat_df, annot=True,cmap=plt.cm.Blues)\n",
        "plt.tight_layout()\n",
        "plt.ylabel('True label')  \n",
        "plt.xlabel('Predicted label')\n",
        "plt.show()"
      ],
      "execution_count": null,
      "outputs": [
        {
          "output_type": "display_data",
          "data": {
            "image/png": "[encoded data removed]",
            "text/plain": [
              "<Figure size 576x576 with 2 Axes>"
            ]
          },
          "metadata": {
            "tags": [],
            "needs_background": "light"
          }
        }
      ]
    },
    {
      "cell_type": "code",
      "metadata": {
        "id": "aY7hPL4WlSrX",
        "colab_type": "code",
        "colab": {}
      },
      "source": [
        "\n",
        "# summarize filter shapes\n",
        "for layer in model.layers:\n",
        "\t# check for convolutional layer\n",
        "\tif 'conv' not in layer.name:\n",
        "\t\tcontinue\n",
        "    "
      ],
      "execution_count": null,
      "outputs": []
    },
    {
      "cell_type": "code",
      "metadata": {
        "id": "ambUZBzNgWMt",
        "colab_type": "code",
        "colab": {
          "base_uri": "https://localhost:8080/",
          "height": 36
        },
        "outputId": "f0605854-e757-41e9-eb5a-c5eecfd76a3c"
      },
      "source": [
        "# summarize filters in each convolutional layer\n",
        "from keras.applications.vgg16 import VGG16\n",
        "from matplotlib import pyplot\n",
        "# load the model\n",
        "# retrieve weights from the second hidden layer\n",
        "filters, biases = model.layers[1].get_weights()"
      ],
      "execution_count": null,
      "outputs": [
        {
          "output_type": "stream",
          "text": [
            "Using TensorFlow backend.\n"
          ],
          "name": "stderr"
        }
      ]
    },
    {
      "cell_type": "code",
      "metadata": {
        "id": "yI_YYQHWga4l",
        "colab_type": "code",
        "colab": {}
      },
      "source": [
        "# normalize filter values to 0-1 so we can visualize them\n",
        "f_min, f_max = filters.min(), filters.max()\n",
        "filters = (filters - f_min) / (f_max - f_min)"
      ],
      "execution_count": null,
      "outputs": []
    },
    {
      "cell_type": "code",
      "metadata": {
        "id": "SHGHHPETgcw-",
        "colab_type": "code",
        "colab": {
          "base_uri": "https://localhost:8080/",
          "height": 240
        },
        "outputId": "b6f26719-ecbf-40ca-e910-68f2b9fb7937"
      },
      "source": [
        "# plot first few filters\n",
        "n_filters, ix = 6, 1\n",
        "for i in range(n_filters):\n",
        "\t# get the filter\n",
        "\tf = filters[:, :, :, i]\n",
        "\t# plot each channel separately\n",
        "\tfor j in range(15):\n",
        "\t\t# specify subplot and turn of axis\n",
        "\t\tax = pyplot.subplot(n_filters, 15, ix)\n",
        "\t\tax.set_xticks([])\n",
        "\t\tax.set_yticks([])\n",
        "\t\t# plot filter channel in grayscale\n",
        "\t\tpyplot.imshow(f[:, :, j], cmap='gray')\n",
        "\t\tix += 1\n",
        "# show the figure\n",
        "pyplot.show()"
      ],
      "execution_count": null,
      "outputs": [
        {
          "output_type": "display_data",
          "data": {
            "image/png": "[encoded data removed]",
            "text/plain": [
              "<Figure size 432x288 with 90 Axes>"
            ]
          },
          "metadata": {
            "tags": []
          }
        }
      ]
    },
    {
      "cell_type": "code",
      "metadata": {
        "id": "y8Qi5U2ymL9f",
        "colab_type": "code",
        "colab": {}
      },
      "source": [
        ""
      ],
      "execution_count": null,
      "outputs": []
    }
  ]
}